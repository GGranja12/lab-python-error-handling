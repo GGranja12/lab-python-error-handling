{
 "cells": [
  {
   "cell_type": "markdown",
   "id": "25d7736c-ba17-4aff-b6bb-66eba20fbf4e",
   "metadata": {},
   "source": [
    "# Lab | Error Handling"
   ]
  },
  {
   "cell_type": "markdown",
   "id": "bc99b386-7508-47a0-bcdb-d969deaf6c8b",
   "metadata": {},
   "source": [
    "## Exercise: Error Handling for Managing Customer Orders\n",
    "\n",
    "The implementation of your code for managing customer orders assumes that the user will always enter a valid input. \n",
    "\n",
    "For example, we could modify the `initialize_inventory` function to include error handling.\n",
    "   - If the user enters an invalid quantity (e.g., a negative value or a non-numeric value), display an error message and ask them to re-enter the quantity for that product.\n",
    "   - Use a try-except block to handle the error and continue prompting the user until a valid quantity is entered.\n",
    "\n",
    "```python\n",
    "# Step 1: Define the function for initializing the inventory with error handling\n",
    "def initialize_inventory(products):\n",
    "    inventory = {}\n",
    "    for product in products:\n",
    "        valid_quantity = False\n",
    "        while not valid_quantity:\n",
    "            try:\n",
    "                quantity = int(input(f\"Enter the quantity of {product}s available: \"))\n",
    "                if quantity < 0:\n",
    "                    raise ValueError(\"Invalid quantity! Please enter a non-negative value.\")\n",
    "                valid_quantity = True\n",
    "            except ValueError as error:\n",
    "                print(f\"Error: {error}\")\n",
    "        inventory[product] = quantity\n",
    "    return inventory\n",
    "\n",
    "# Or, in another way:\n",
    "\n",
    "def initialize_inventory(products):\n",
    "    inventory = {}\n",
    "    for product in products:\n",
    "        valid_input = False\n",
    "        while not valid_input:\n",
    "            try:\n",
    "                quantity = int(input(f\"Enter the quantity of {product}s available: \"))\n",
    "                if quantity >= 0:\n",
    "                    inventory[product] = quantity\n",
    "                    valid_input = True\n",
    "                else:\n",
    "                    print(\"Quantity cannot be negative. Please enter a valid quantity.\")\n",
    "            except ValueError:\n",
    "                print(\"Invalid input. Please enter a valid quantity.\")\n",
    "    return inventory\n",
    "```\n",
    "\n",
    "Let's enhance your code by implementing error handling to handle invalid inputs.\n",
    "\n",
    "Follow the steps below to complete the exercise:\n",
    "\n",
    "2. Modify the `calculate_total_price` function to include error handling.\n",
    "   - If the user enters an invalid price (e.g., a negative value or a non-numeric value), display an error message and ask them to re-enter the price for that product.\n",
    "   - Use a try-except block to handle the error and continue prompting the user until a valid price is entered.\n",
    "\n",
    "3. Modify the `get_customer_orders` function to include error handling.\n",
    "   - If the user enters an invalid number of orders (e.g., a negative value or a non-numeric value), display an error message and ask them to re-enter the number of orders.\n",
    "   - If the user enters an invalid product name (e.g., a product name that is not in the inventory), or that doesn't have stock available, display an error message and ask them to re-enter the product name. *Hint: you will need to pass inventory as a parameter*\n",
    "   - Use a try-except block to handle the error and continue prompting the user until a valid product name is entered.\n",
    "\n",
    "4. Test your code by running the program and deliberately entering invalid quantities and product names. Make sure the error handling mechanism works as expected.\n"
   ]
  },
  {
   "cell_type": "code",
   "execution_count": 1,
   "id": "d1466091",
   "metadata": {},
   "outputs": [],
   "source": [
    "#First I will use the given initialize_inventory function\n",
    "def initialize_inventory(products):\n",
    "    inventory = {}\n",
    "    for product in products:\n",
    "        valid_input = False\n",
    "        while not valid_input:\n",
    "            try:\n",
    "                quantity = int(input(f\"Enter the quantity of {product}s available: \"))\n",
    "                if quantity >= 0:\n",
    "                    inventory[product] = quantity\n",
    "                    valid_input = True\n",
    "                else:\n",
    "                    print(\"Quantity cannot be negative. Please enter a valid quantity.\")\n",
    "            except ValueError:\n",
    "                print(\"Invalid input. Please enter a valid quantity.\")\n",
    "    return inventory"
   ]
  },
  {
   "cell_type": "code",
   "execution_count": 2,
   "id": "6c1985eb",
   "metadata": {},
   "outputs": [],
   "source": [
    "products = [\"t-shirt\", \"mug\", \"hat\", \"book\", \"keychain\"] #defining list of products"
   ]
  },
  {
   "cell_type": "code",
   "execution_count": 3,
   "id": "94585c8b",
   "metadata": {},
   "outputs": [
    {
     "name": "stdout",
     "output_type": "stream",
     "text": [
      "Enter the quantity of t-shirts available: 10\n",
      "Enter the quantity of mugs available: 20\n",
      "Enter the quantity of hats available: 30\n",
      "Enter the quantity of books available: 40\n",
      "Enter the quantity of keychains available: 50\n"
     ]
    }
   ],
   "source": [
    "inventory = initialize_inventory(products) #storing inventory dict using the defined list of products as an argument"
   ]
  },
  {
   "cell_type": "code",
   "execution_count": 4,
   "id": "5872cd70",
   "metadata": {},
   "outputs": [],
   "source": [
    "# creating new function calculate_total_price and applying error handling\n",
    "#the result is similar to the inventory handling error\n",
    "def calculate_total_price(products):\n",
    "    price_tags = {}\n",
    "    for product in products:\n",
    "        valid_input = False\n",
    "        while not valid_input:\n",
    "            try:\n",
    "                price = int(input(f\"Enter the price of {product}:€ \"))\n",
    "                if price >= 0:\n",
    "                    price_tags[product] = price\n",
    "                    valid_input = True\n",
    "                else:\n",
    "                    print(\"Price cannot be negative. Please enter a valid price.\")\n",
    "                    \n",
    "            \n",
    "            except ValueError:\n",
    "                print(\"Invalid input. Please enter a valid price.\")\n",
    "    return price_tags"
   ]
  },
  {
   "cell_type": "code",
   "execution_count": 5,
   "id": "57fc494e",
   "metadata": {},
   "outputs": [
    {
     "name": "stdout",
     "output_type": "stream",
     "text": [
      "Enter the price of t-shirt:€ 3\n",
      "Enter the price of mug:€ 4\n",
      "Enter the price of hat:€ 5\n",
      "Enter the price of book:€ 6\n",
      "Enter the price of keychain:€ \n",
      "Invalid input. Please enter a valid price.\n",
      "Enter the price of keychain:€ 7\n"
     ]
    }
   ],
   "source": [
    "price_tags = calculate_total_price(products)"
   ]
  },
  {
   "cell_type": "code",
   "execution_count": 6,
   "id": "10047f02",
   "metadata": {},
   "outputs": [],
   "source": [
    "def get_customer_orders(inventory):\n",
    "    customer_orders = {} #setting an empty dictionary. Now customer_orders is a dict so that we can accomodate both product and quantity orders\n",
    "\n",
    "    while True:\n",
    "        \n",
    "        try:\n",
    "            product = input(\"Please enter the ordered product: \")\n",
    "            \n",
    "            while product not in inventory.keys(): \n",
    "                yes_no = input(\"Product does not exist. Do you want anything else? (yes/no): \")\n",
    "                                \n",
    "                if yes_no == \"yes\":\n",
    "                    product = input(\"Please enter the ordered product: \")\n",
    "                else:\n",
    "                    return customer_orders # in this case it will be empty because the product ordered did not exist and the user did not want to order anything else\n",
    "                \n",
    "            quantity = int(input(\"Please enter the ordered quantity: \"))\n",
    "            \n",
    "            while quantity < 0: #to adress the insertion of negative numbers\n",
    "                print(\"Quantity cannot be negative.\")\n",
    "                quantity = int(input(\"Please enter the ordered quantity: \"))\n",
    "            \n",
    "            if inventory[product] - quantity >= 0: #to guarantee that is only possible to order products in stock\n",
    "                inventory[product] -= quantity\n",
    "                customer_orders[product] = quantity\n",
    "            else:\n",
    "                # in case we're out of the product\n",
    "                if inventory[product] == 0:\n",
    "                    print(f\"Product unavailable at the moment.\")\n",
    "                \n",
    "                # in case we have the product, but not enough quantity\n",
    "                else:\n",
    "                    print(f\"Product unavailable. Only {inventory[product]} unit(s) left.\")\n",
    "            \n",
    "            #we keep asking the user if he/she wants to kkeep ordering. The code will always be the same\n",
    "            yes_no = input(\"Do you want another product? \").lower()\n",
    "            \n",
    "            while yes_no == \"yes\":\n",
    "                product = input(\"Please enter the ordered product: \")\n",
    "                \n",
    "                while product not in inventory.keys():\n",
    "                    yes_no = input(\"Product does not exist. Do you want anything else? (yes/no): \")\n",
    "\n",
    "                    if yes_no == \"yes\":\n",
    "                        product = input(\"Please enter the ordered product: \")\n",
    "                    else:\n",
    "                        \n",
    "                        return customer_orders\n",
    "                \n",
    "                quantity = int(input(\"Please enter the ordered quantity: \"))\n",
    "                \n",
    "                while quantity < 0: #to adress the insertion of negative numbers\n",
    "                    print(\"Quantity cannot be negative.\")\n",
    "                    quantity = int(input(\"Please enter the ordered quantity: \"))\n",
    "                \n",
    "                if inventory[product] - quantity >= 0:  #to guarantee that is only possible to order products in stock\n",
    "                    inventory[product] -= quantity\n",
    "                    customer_orders[product] = quantity\n",
    "\n",
    "                else:\n",
    "                    # in case we're out of the product\n",
    "                    if inventory[product] == 0:\n",
    "                        print(f\"Product unavailable at the moment.\")\n",
    "\n",
    "                    # in case we have the product, but not enough quantity\n",
    "                    else:\n",
    "                        print(f\"Product unavailable. Only {inventory[product]} unit(s) left.\")\n",
    "            \n",
    "                yes_no = input(\"Do you want another product? \").lower()           \n",
    "                                  \n",
    "            # It stops when the user says No. No need for \"break\".\n",
    "            return customer_orders\n",
    "        \n",
    "        # If the quantity is not a number\n",
    "        except ValueError:\n",
    "            print(\"Invalid quantity. Please input a valid quantity.\")\n",
    "    "
   ]
  },
  {
   "cell_type": "code",
   "execution_count": 7,
   "id": "7e71e3e5",
   "metadata": {},
   "outputs": [
    {
     "data": {
      "text/plain": [
       "{'t-shirt': 10, 'mug': 20, 'hat': 30, 'book': 40, 'keychain': 50}"
      ]
     },
     "execution_count": 7,
     "metadata": {},
     "output_type": "execute_result"
    }
   ],
   "source": [
    "inventory"
   ]
  },
  {
   "cell_type": "code",
   "execution_count": 12,
   "id": "2b66a7d4",
   "metadata": {},
   "outputs": [
    {
     "name": "stdout",
     "output_type": "stream",
     "text": [
      "Please enter the ordered product: mug\n",
      "Please enter the ordered quantity: 5\n",
      "Do you want another product? yes\n",
      "Please enter the ordered product: book\n",
      "Please enter the ordered quantity: 4\n",
      "Do you want another product? no\n"
     ]
    },
    {
     "data": {
      "text/plain": [
       "{'mug': 5, 'book': 4}"
      ]
     },
     "execution_count": 12,
     "metadata": {},
     "output_type": "execute_result"
    }
   ],
   "source": [
    "get_customer_orders(inventory)"
   ]
  },
  {
   "cell_type": "code",
   "execution_count": 13,
   "id": "4d546987",
   "metadata": {},
   "outputs": [
    {
     "data": {
      "text/plain": [
       "{'t-shirt': 7, 'mug': 15, 'hat': 30, 'book': 36, 'keychain': 50}"
      ]
     },
     "execution_count": 13,
     "metadata": {},
     "output_type": "execute_result"
    }
   ],
   "source": [
    "inventory"
   ]
  },
  {
   "cell_type": "code",
   "execution_count": null,
   "id": "54ec0785",
   "metadata": {},
   "outputs": [],
   "source": []
  }
 ],
 "metadata": {
  "kernelspec": {
   "display_name": "Python 3 (ipykernel)",
   "language": "python",
   "name": "python3"
  },
  "language_info": {
   "codemirror_mode": {
    "name": "ipython",
    "version": 3
   },
   "file_extension": ".py",
   "mimetype": "text/x-python",
   "name": "python",
   "nbconvert_exporter": "python",
   "pygments_lexer": "ipython3",
   "version": "3.9.13"
  }
 },
 "nbformat": 4,
 "nbformat_minor": 5
}
